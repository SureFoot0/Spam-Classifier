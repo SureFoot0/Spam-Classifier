{
 "cells": [
  {
   "cell_type": "code",
   "execution_count": 1,
   "id": "995d4301-845d-4dda-af92-55b3cba6e634",
   "metadata": {},
   "outputs": [],
   "source": [
    "import math"
   ]
  },
  {
   "cell_type": "code",
   "execution_count": 60,
   "id": "40d83fd8-d1fb-484b-ae79-2ebb79922eb3",
   "metadata": {},
   "outputs": [],
   "source": [
    "x = 2"
   ]
  },
  {
   "cell_type": "code",
   "execution_count": 61,
   "id": "8d59a6be-e502-42cc-9abe-1013615d231c",
   "metadata": {},
   "outputs": [
    {
     "data": {
      "text/plain": [
       "1024"
      ]
     },
     "execution_count": 61,
     "metadata": {},
     "output_type": "execute_result"
    }
   ],
   "source": [
    "16 * x**6"
   ]
  },
  {
   "cell_type": "code",
   "execution_count": 62,
   "id": "a6df3090-7f8a-4079-b33f-376324c53cdb",
   "metadata": {},
   "outputs": [
    {
     "data": {
      "text/plain": [
       "768"
      ]
     },
     "execution_count": 62,
     "metadata": {},
     "output_type": "execute_result"
    }
   ],
   "source": [
    "24 * x**5"
   ]
  },
  {
   "cell_type": "code",
   "execution_count": 63,
   "id": "4a377083-a976-4d40-8ef2-228ef4a6feb1",
   "metadata": {},
   "outputs": [
    {
     "data": {
      "text/plain": [
       "256"
      ]
     },
     "execution_count": 63,
     "metadata": {},
     "output_type": "execute_result"
    }
   ],
   "source": [
    "16 * x**4"
   ]
  },
  {
   "cell_type": "code",
   "execution_count": 64,
   "id": "37a0433b-ee8d-4235-9a7d-e74124f9d44b",
   "metadata": {},
   "outputs": [
    {
     "data": {
      "text/plain": [
       "144"
      ]
     },
     "execution_count": 64,
     "metadata": {},
     "output_type": "execute_result"
    }
   ],
   "source": [
    "9 * x**4"
   ]
  },
  {
   "cell_type": "code",
   "execution_count": 65,
   "id": "47ee342b-1231-4053-a4f5-86c36dbbd567",
   "metadata": {},
   "outputs": [
    {
     "data": {
      "text/plain": [
       "64"
      ]
     },
     "execution_count": 65,
     "metadata": {},
     "output_type": "execute_result"
    }
   ],
   "source": [
    "8 * x**3"
   ]
  },
  {
   "cell_type": "code",
   "execution_count": 66,
   "id": "6814f43e-6950-4a34-a590-978c4917868c",
   "metadata": {},
   "outputs": [
    {
     "data": {
      "text/plain": [
       "96"
      ]
     },
     "execution_count": 66,
     "metadata": {},
     "output_type": "execute_result"
    }
   ],
   "source": [
    "12 * x**3"
   ]
  },
  {
   "cell_type": "code",
   "execution_count": 67,
   "id": "f14bdd0e-056d-45da-b4ac-fc191ebf2176",
   "metadata": {},
   "outputs": [
    {
     "data": {
      "text/plain": [
       "24"
      ]
     },
     "execution_count": 67,
     "metadata": {},
     "output_type": "execute_result"
    }
   ],
   "source": [
    "6 * x**2"
   ]
  },
  {
   "cell_type": "code",
   "execution_count": 68,
   "id": "705cc309-da60-47c4-b9ed-edbb148a7561",
   "metadata": {},
   "outputs": [
    {
     "data": {
      "text/plain": [
       "16"
      ]
     },
     "execution_count": 68,
     "metadata": {},
     "output_type": "execute_result"
    }
   ],
   "source": [
    "4 * x**2"
   ]
  },
  {
   "cell_type": "code",
   "execution_count": 70,
   "id": "349d2249-3243-4065-97b0-94c713cb2db8",
   "metadata": {},
   "outputs": [
    {
     "data": {
      "text/plain": [
       "8"
      ]
     },
     "execution_count": 70,
     "metadata": {},
     "output_type": "execute_result"
    }
   ],
   "source": [
    "4 * x"
   ]
  },
  {
   "cell_type": "code",
   "execution_count": 72,
   "id": "1df58625-6b96-45de-bad7-296d02b1b5ec",
   "metadata": {},
   "outputs": [
    {
     "data": {
      "text/plain": [
       "2"
      ]
     },
     "execution_count": 72,
     "metadata": {},
     "output_type": "execute_result"
    }
   ],
   "source": [
    "x"
   ]
  },
  {
   "cell_type": "code",
   "execution_count": 74,
   "id": "450c4b43-fdec-4f00-8526-177ebc27fc04",
   "metadata": {},
   "outputs": [
    {
     "data": {
      "text/plain": [
       "10"
      ]
     },
     "execution_count": 74,
     "metadata": {},
     "output_type": "execute_result"
    }
   ],
   "source": [
    "5*x"
   ]
  },
  {
   "cell_type": "code",
   "execution_count": 181,
   "id": "3f941371-824e-4c56-8192-52b172e05e52",
   "metadata": {},
   "outputs": [],
   "source": [
    "a = 3.51762\n",
    "b = -18.7596\n",
    "c = 34.6624\n",
    "d = -24.3869"
   ]
  },
  {
   "cell_type": "code",
   "execution_count": 182,
   "id": "9be944a3-a217-439d-80c7-0797d09e02e0",
   "metadata": {},
   "outputs": [],
   "source": [
    "e = math.sqrt(1 + 16*a**2 + 24*a*b + (16*a*c + 9*b**2) + (8*a*d + 12*b*c) + (6*b*d + 4*c**2) + 4*c*d + d**2)"
   ]
  },
  {
   "cell_type": "code",
   "execution_count": 183,
   "id": "684a3092-ffc3-47a6-b472-f0bbe2e4d7b6",
   "metadata": {},
   "outputs": [],
   "source": [
    "f = math.sqrt(1 + 47.8*a**2 + 59.7*a*b + (33.2*a*c + 18.7*b**2) + (13.8*a*d + 20.7*b*c) + (8.64*b*d + 5.76*c**2) + 4.8*c*d + d**2)"
   ]
  },
  {
   "cell_type": "code",
   "execution_count": 184,
   "id": "cf3abe72-a289-467e-aea6-23512f927904",
   "metadata": {},
   "outputs": [],
   "source": [
    "g = math.sqrt(1 + 120.5*a**2 + 129.1*a*b + (61.5*a*c + 34.6*b**2) + (22.0*a*d + 32.9*b*c) + (11.8*b*d + 7.84*c**2) + 5.6*c*d + d**2)"
   ]
  },
  {
   "cell_type": "code",
   "execution_count": 185,
   "id": "31eb530f-a840-48a3-8e4d-3eed91da7872",
   "metadata": {},
   "outputs": [
    {
     "ename": "ValueError",
     "evalue": "math domain error",
     "output_type": "error",
     "traceback": [
      "\u001b[0;31m---------------------------------------------------------------------------\u001b[0m",
      "\u001b[0;31mValueError\u001b[0m                                Traceback (most recent call last)",
      "Cell \u001b[0;32mIn[185], line 1\u001b[0m\n\u001b[0;32m----> 1\u001b[0m h \u001b[38;5;241m=\u001b[39m \u001b[43mmath\u001b[49m\u001b[38;5;241;43m.\u001b[39;49m\u001b[43msqrt\u001b[49m\u001b[43m(\u001b[49m\u001b[38;5;241;43m1\u001b[39;49m\u001b[43m \u001b[49m\u001b[38;5;241;43m+\u001b[39;49m\u001b[43m \u001b[49m\u001b[38;5;241;43m268.4\u001b[39;49m\u001b[38;5;241;43m*\u001b[39;49m\u001b[43ma\u001b[49m\u001b[38;5;241;43m*\u001b[39;49m\u001b[38;5;241;43m*\u001b[39;49m\u001b[38;5;241;43m2\u001b[39;49m\u001b[43m \u001b[49m\u001b[38;5;241;43m+\u001b[39;49m\u001b[43m \u001b[49m\u001b[38;5;241;43m251.7\u001b[39;49m\u001b[38;5;241;43m*\u001b[39;49m\u001b[43ma\u001b[49m\u001b[38;5;241;43m*\u001b[39;49m\u001b[43mb\u001b[49m\u001b[43m \u001b[49m\u001b[38;5;241;43m+\u001b[39;49m\u001b[43m \u001b[49m\u001b[43m(\u001b[49m\u001b[38;5;241;43m104.9\u001b[39;49m\u001b[38;5;241;43m*\u001b[39;49m\u001b[43ma\u001b[49m\u001b[38;5;241;43m*\u001b[39;49m\u001b[43mc\u001b[49m\u001b[43m \u001b[49m\u001b[38;5;241;43m+\u001b[39;49m\u001b[43m \u001b[49m\u001b[38;5;241;43m59.0\u001b[39;49m\u001b[38;5;241;43m*\u001b[39;49m\u001b[43mb\u001b[49m\u001b[38;5;241;43m*\u001b[39;49m\u001b[38;5;241;43m*\u001b[39;49m\u001b[38;5;241;43m2\u001b[39;49m\u001b[43m)\u001b[49m\u001b[43m \u001b[49m\u001b[38;5;241;43m+\u001b[39;49m\u001b[43m \u001b[49m\u001b[43m(\u001b[49m\u001b[38;5;241;43m32.8\u001b[39;49m\u001b[38;5;241;43m*\u001b[39;49m\u001b[43ma\u001b[49m\u001b[38;5;241;43m*\u001b[39;49m\u001b[43md\u001b[49m\u001b[43m \u001b[49m\u001b[38;5;241;43m+\u001b[39;49m\u001b[43m \u001b[49m\u001b[38;5;241;43m49.2\u001b[39;49m\u001b[38;5;241;43m*\u001b[39;49m\u001b[43mb\u001b[49m\u001b[38;5;241;43m*\u001b[39;49m\u001b[43mc\u001b[49m\u001b[43m)\u001b[49m\u001b[43m \u001b[49m\u001b[38;5;241;43m+\u001b[39;49m\u001b[43m \u001b[49m\u001b[43m(\u001b[49m\u001b[38;5;241;43m15.4\u001b[39;49m\u001b[38;5;241;43m*\u001b[39;49m\u001b[43mb\u001b[49m\u001b[38;5;241;43m*\u001b[39;49m\u001b[43md\u001b[49m\u001b[43m \u001b[49m\u001b[38;5;241;43m+\u001b[39;49m\u001b[43m \u001b[49m\u001b[38;5;241;43m10.2\u001b[39;49m\u001b[38;5;241;43m*\u001b[39;49m\u001b[43mc\u001b[49m\u001b[38;5;241;43m*\u001b[39;49m\u001b[38;5;241;43m*\u001b[39;49m\u001b[38;5;241;43m2\u001b[39;49m\u001b[43m)\u001b[49m\u001b[43m \u001b[49m\u001b[38;5;241;43m+\u001b[39;49m\u001b[43m \u001b[49m\u001b[38;5;241;43m6.4\u001b[39;49m\u001b[38;5;241;43m*\u001b[39;49m\u001b[43mc\u001b[49m\u001b[38;5;241;43m*\u001b[39;49m\u001b[43md\u001b[49m\u001b[43m \u001b[49m\u001b[38;5;241;43m+\u001b[39;49m\u001b[43m \u001b[49m\u001b[43md\u001b[49m\u001b[38;5;241;43m*\u001b[39;49m\u001b[38;5;241;43m*\u001b[39;49m\u001b[38;5;241;43m2\u001b[39;49m\u001b[43m)\u001b[49m\n",
      "\u001b[0;31mValueError\u001b[0m: math domain error"
     ]
    }
   ],
   "source": [
    "h = math.sqrt(1 + 268.4*a**2 + 251.7*a*b + (104.9*a*c + 59.0*b**2) + (32.8*a*d + 49.2*b*c) + (15.4*b*d + 10.2*c**2) + 6.4*c*d + d**2)"
   ]
  },
  {
   "cell_type": "code",
   "execution_count": 186,
   "id": "96b7a6a1-dec7-4b79-8a79-98db11cbfafe",
   "metadata": {},
   "outputs": [],
   "source": [
    "i = math.sqrt(1 + 544.2*a**2 + 453.5*a*b + (168.0*a*c + 94.5*b**2) + (46.7*a*d + 70.0*b*c) + (19.4*b*d + 13.0*c**2) + 7.2*c*d + d**2)"
   ]
  },
  {
   "cell_type": "code",
   "execution_count": 187,
   "id": "5beb4594-c0ec-4b50-95f3-d9dc63e54412",
   "metadata": {},
   "outputs": [
    {
     "ename": "ValueError",
     "evalue": "math domain error",
     "output_type": "error",
     "traceback": [
      "\u001b[0;31m---------------------------------------------------------------------------\u001b[0m",
      "\u001b[0;31mValueError\u001b[0m                                Traceback (most recent call last)",
      "Cell \u001b[0;32mIn[187], line 1\u001b[0m\n\u001b[0;32m----> 1\u001b[0m j \u001b[38;5;241m=\u001b[39m \u001b[43mmath\u001b[49m\u001b[38;5;241;43m.\u001b[39;49m\u001b[43msqrt\u001b[49m\u001b[43m(\u001b[49m\u001b[38;5;241;43m1\u001b[39;49m\u001b[43m \u001b[49m\u001b[38;5;241;43m+\u001b[39;49m\u001b[43m \u001b[49m\u001b[38;5;241;43m1024\u001b[39;49m\u001b[38;5;241;43m*\u001b[39;49m\u001b[43ma\u001b[49m\u001b[38;5;241;43m*\u001b[39;49m\u001b[38;5;241;43m2\u001b[39;49m\u001b[43m  \u001b[49m\u001b[38;5;241;43m+\u001b[39;49m\u001b[43m \u001b[49m\u001b[38;5;241;43m768\u001b[39;49m\u001b[38;5;241;43m*\u001b[39;49m\u001b[43ma\u001b[49m\u001b[38;5;241;43m*\u001b[39;49m\u001b[43mb\u001b[49m\u001b[43m \u001b[49m\u001b[38;5;241;43m+\u001b[39;49m\u001b[43m \u001b[49m\u001b[43m(\u001b[49m\u001b[38;5;241;43m256\u001b[39;49m\u001b[38;5;241;43m*\u001b[39;49m\u001b[43ma\u001b[49m\u001b[38;5;241;43m*\u001b[39;49m\u001b[43mc\u001b[49m\u001b[43m \u001b[49m\u001b[38;5;241;43m+\u001b[39;49m\u001b[43m \u001b[49m\u001b[38;5;241;43m144\u001b[39;49m\u001b[38;5;241;43m*\u001b[39;49m\u001b[43mb\u001b[49m\u001b[38;5;241;43m*\u001b[39;49m\u001b[38;5;241;43m*\u001b[39;49m\u001b[38;5;241;43m2\u001b[39;49m\u001b[43m)\u001b[49m\u001b[43m \u001b[49m\u001b[38;5;241;43m+\u001b[39;49m\u001b[43m \u001b[49m\u001b[43m(\u001b[49m\u001b[38;5;241;43m64\u001b[39;49m\u001b[38;5;241;43m*\u001b[39;49m\u001b[43ma\u001b[49m\u001b[38;5;241;43m*\u001b[39;49m\u001b[43md\u001b[49m\u001b[43m \u001b[49m\u001b[38;5;241;43m+\u001b[39;49m\u001b[43m \u001b[49m\u001b[38;5;241;43m96\u001b[39;49m\u001b[38;5;241;43m*\u001b[39;49m\u001b[43mb\u001b[49m\u001b[38;5;241;43m*\u001b[39;49m\u001b[43mc\u001b[49m\u001b[43m)\u001b[49m\u001b[43m \u001b[49m\u001b[38;5;241;43m+\u001b[39;49m\u001b[43m \u001b[49m\u001b[43m(\u001b[49m\u001b[38;5;241;43m24\u001b[39;49m\u001b[38;5;241;43m*\u001b[39;49m\u001b[43mb\u001b[49m\u001b[38;5;241;43m*\u001b[39;49m\u001b[43md\u001b[49m\u001b[43m \u001b[49m\u001b[38;5;241;43m+\u001b[39;49m\u001b[43m \u001b[49m\u001b[38;5;241;43m16\u001b[39;49m\u001b[38;5;241;43m*\u001b[39;49m\u001b[43mc\u001b[49m\u001b[38;5;241;43m*\u001b[39;49m\u001b[38;5;241;43m*\u001b[39;49m\u001b[38;5;241;43m2\u001b[39;49m\u001b[43m)\u001b[49m\u001b[43m \u001b[49m\u001b[38;5;241;43m+\u001b[39;49m\u001b[43m \u001b[49m\u001b[38;5;241;43m7.2\u001b[39;49m\u001b[38;5;241;43m*\u001b[39;49m\u001b[43mc\u001b[49m\u001b[38;5;241;43m*\u001b[39;49m\u001b[43md\u001b[49m\u001b[43m \u001b[49m\u001b[38;5;241;43m+\u001b[39;49m\u001b[43m \u001b[49m\u001b[43md\u001b[49m\u001b[38;5;241;43m*\u001b[39;49m\u001b[38;5;241;43m*\u001b[39;49m\u001b[38;5;241;43m2\u001b[39;49m\u001b[43m)\u001b[49m\n",
      "\u001b[0;31mValueError\u001b[0m: math domain error"
     ]
    }
   ],
   "source": [
    "j = math.sqrt(1 + 1024*a*2  + 768*a*b + (256*a*c + 144*b**2) + (64*a*d + 96*b*c) + (24*b*d + 16*c**2) + 7.2*c*d + d**2)"
   ]
  },
  {
   "cell_type": "code",
   "execution_count": 131,
   "id": "dcfe11d8-9bd6-4dca-9193-a6e70a0f4a3a",
   "metadata": {},
   "outputs": [
    {
     "data": {
      "text/plain": [
       "137.24474902966315"
      ]
     },
     "execution_count": 131,
     "metadata": {},
     "output_type": "execute_result"
    }
   ],
   "source": [
    "e + j + 2*(f + g + h +i)"
   ]
  },
  {
   "cell_type": "code",
   "execution_count": 188,
   "id": "e27a9b56-c4a8-4973-a26a-3c8ce0bdb59d",
   "metadata": {},
   "outputs": [
    {
     "ename": "ValueError",
     "evalue": "math domain error",
     "output_type": "error",
     "traceback": [
      "\u001b[0;31m---------------------------------------------------------------------------\u001b[0m",
      "\u001b[0;31mValueError\u001b[0m                                Traceback (most recent call last)",
      "Cell \u001b[0;32mIn[188], line 1\u001b[0m\n\u001b[0;32m----> 1\u001b[0m \u001b[43mmath\u001b[49m\u001b[38;5;241;43m.\u001b[39;49m\u001b[43msqrt\u001b[49m\u001b[43m(\u001b[49m\u001b[38;5;241;43m-\u001b[39;49m\u001b[38;5;241;43m5\u001b[39;49m\u001b[43m)\u001b[49m\n",
      "\u001b[0;31mValueError\u001b[0m: math domain error"
     ]
    }
   ],
   "source": [
    "math.sqrt(-5)"
   ]
  },
  {
   "cell_type": "code",
   "execution_count": 115,
   "id": "aae77ae2-0de2-4e83-85ca-abb7bf52a650",
   "metadata": {},
   "outputs": [],
   "source": [
    "a = 2.73496\n",
    "b = -17.2924\n",
    "c = 38.6666\n",
    "d = -34.7628"
   ]
  },
  {
   "cell_type": "code",
   "execution_count": 121,
   "id": "e67fa846-7939-4a53-aeff-92387e93118b",
   "metadata": {},
   "outputs": [
    {
     "data": {
      "text/plain": [
       "299.02709776"
      ]
     },
     "execution_count": 121,
     "metadata": {},
     "output_type": "execute_result"
    }
   ],
   "source": [
    "d**2\n",
    "b**2"
   ]
  },
  {
   "cell_type": "code",
   "execution_count": 122,
   "id": "36578cff-badb-4c82-a015-9fb7d19712e5",
   "metadata": {},
   "outputs": [
    {
     "data": {
      "text/plain": [
       "2.451176426669464"
      ]
     },
     "execution_count": 122,
     "metadata": {},
     "output_type": "execute_result"
    }
   ],
   "source": [
    "x = 1.2\n",
    "math.sqrt(1 + 16*(a**2)*(x**6)+ 24*a*b*x**5 + (16*a*c + 9*(b)**2)*x**4 + (8*a*d + 12*b*c)*x**3 + (6*b*d + 4*c**2)*x**2 + 4*c*d*x + d**2)"
   ]
  },
  {
   "cell_type": "code",
   "execution_count": 107,
   "id": "d46a76cd-c739-4d73-aa16-feb265217a94",
   "metadata": {},
   "outputs": [
    {
     "data": {
      "text/plain": [
       "2.097072766993211"
      ]
     },
     "execution_count": 107,
     "metadata": {},
     "output_type": "execute_result"
    }
   ],
   "source": [
    "x = 1.4\n",
    "math.sqrt(1 + 16*(a**2)*(x**6)+ 24*a*b*x**5 + (16*a*c + 9*b**2)*x**4 + (8*a*d + 12*b*c)*x**3 + (6*b*d + 4*c**2)*x**2 + 4*c*d*x + d**2)"
   ]
  },
  {
   "cell_type": "code",
   "execution_count": 108,
   "id": "aac769b4-19a6-486b-8677-2e62a10d8db3",
   "metadata": {},
   "outputs": [
    {
     "data": {
      "text/plain": [
       "1.3961400993618054"
      ]
     },
     "execution_count": 108,
     "metadata": {},
     "output_type": "execute_result"
    }
   ],
   "source": [
    "x = 1.6\n",
    "math.sqrt(1 + 16*(a**2)*(x**6)+ 24*a*b*x**5 + (16*a*c + 9*b**2)*x**4 + (8*a*d + 12*b*c)*x**3 + (6*b*d + 4*c**2)*x**2 + 4*c*d*x + d**2)"
   ]
  },
  {
   "cell_type": "code",
   "execution_count": 109,
   "id": "c6d14323-bcfd-4558-8bc9-88de73348aca",
   "metadata": {},
   "outputs": [
    {
     "data": {
      "text/plain": [
       "1.0120916020791517"
      ]
     },
     "execution_count": 109,
     "metadata": {},
     "output_type": "execute_result"
    }
   ],
   "source": [
    "x = 1.8\n",
    "math.sqrt(1 + 16*(a**2)*(x**6)+ 24*a*b*x**5 + (16*a*c + 9*b**2)*x**4 + (8*a*d + 12*b*c)*x**3 + (6*b*d + 4*c**2)*x**2 + 4*c*d*x + d**2)"
   ]
  },
  {
   "cell_type": "code",
   "execution_count": 110,
   "id": "4843c6f5-64fb-4cb1-8ea9-b0b512f52d0f",
   "metadata": {},
   "outputs": [
    {
     "data": {
      "text/plain": [
       "1.003732429684326"
      ]
     },
     "execution_count": 110,
     "metadata": {},
     "output_type": "execute_result"
    }
   ],
   "source": [
    "x = 2\n",
    "math.sqrt(1 + 16*(a**2)*(x**6)+ 24*a*b*(x**5) + (16*a*c + 9*b**2)*(x**4) + (8*a*d + 12*b*c)*(x**3) + (6*b*d + 4*c**2)*(x**2) + 4*c*d*x + d**2)"
   ]
  },
  {
   "cell_type": "code",
   "execution_count": 111,
   "id": "276dcf67-c5b8-48c3-bb12-1aea9da34227",
   "metadata": {},
   "outputs": [
    {
     "data": {
      "text/plain": [
       "12.465517793222126"
      ]
     },
     "execution_count": 111,
     "metadata": {},
     "output_type": "execute_result"
    }
   ],
   "source": [
    "2.451176426669464 + 1.003732429684326 + 2*(1.0120916020791517 + 1.3961400993618054 + 2.097072766993211)"
   ]
  },
  {
   "cell_type": "code",
   "execution_count": 112,
   "id": "55afdd89-cd38-47e8-a161-86c825107718",
   "metadata": {},
   "outputs": [
    {
     "data": {
      "text/plain": [
       "-25"
      ]
     },
     "execution_count": 112,
     "metadata": {},
     "output_type": "execute_result"
    }
   ],
   "source": [
    "-5**2"
   ]
  },
  {
   "cell_type": "code",
   "execution_count": 113,
   "id": "62cee407-9ca2-4417-a28f-3aaa7a8e013a",
   "metadata": {},
   "outputs": [
    {
     "data": {
      "text/plain": [
       "25"
      ]
     },
     "execution_count": 113,
     "metadata": {},
     "output_type": "execute_result"
    }
   ],
   "source": [
    "--5**2"
   ]
  },
  {
   "cell_type": "code",
   "execution_count": 123,
   "id": "12901d3c-31fc-4e11-87c7-581448f102c0",
   "metadata": {},
   "outputs": [],
   "source": [
    "x = -5"
   ]
  },
  {
   "cell_type": "code",
   "execution_count": 124,
   "id": "c3b7aacc-b932-42e8-888c-e9724bd56f87",
   "metadata": {},
   "outputs": [
    {
     "data": {
      "text/plain": [
       "25"
      ]
     },
     "execution_count": 124,
     "metadata": {},
     "output_type": "execute_result"
    }
   ],
   "source": [
    "x**2"
   ]
  },
  {
   "cell_type": "code",
   "execution_count": 194,
   "id": "a3e410ad-297d-4f7d-b7e3-e27b370ccdb1",
   "metadata": {},
   "outputs": [],
   "source": [
    "a = 1.4364616743*10**(-11)\n",
    "b = 1.31962829263\n",
    "c = -0.267673125141\n",
    "d = 3.6\n",
    "s = 8.6\n",
    "r = 8.1\n",
    "h = 0.1\n",
    "n = (s - r)/h"
   ]
  },
  {
   "cell_type": "code",
   "execution_count": 147,
   "id": "0ffc929e-9814-486a-aba4-07c40c049f40",
   "metadata": {},
   "outputs": [
    {
     "name": "stdout",
     "output_type": "stream",
     "text": [
      "0.10338479479797105\n"
     ]
    }
   ],
   "source": [
    "total = 0\n",
    "for i in range(1, int(n)):\n",
    "    x = s + i*h\n",
    "    total += math.sqrt((a**2)*(b**2)*(1/(math.cos(b*(x + c))))**2)\n",
    "print(total)"
   ]
  },
  {
   "cell_type": "code",
   "execution_count": 195,
   "id": "ca8fcf0f-33e6-493a-99ec-8864ed7b4ea7",
   "metadata": {},
   "outputs": [
    {
     "name": "stdout",
     "output_type": "stream",
     "text": [
      "1\n",
      "2\n",
      "3\n",
      "4\n",
      "10.0\n"
     ]
    }
   ],
   "source": [
    "total = 0\n",
    "for i in range(1, int(n)):\n",
    "    print(i)\n",
    "    x = s + i*h\n",
    "    total += math.sqrt(1 + (a**2)*(b**2)*(1/(math.cos(math.radians(b*(x + c)))))**2)\n",
    "total = total*2\n",
    "total += math.sqrt(1 + (a**2)*(b**2)*(1/(math.cos(math.radians(b*(s + c)))))**2) + math.sqrt(1 + (a**2)*(b**2)*(1/(math.cos(math.radians(b*(r + c)))))**2)\n",
    "print(total)"
   ]
  },
  {
   "cell_type": "code",
   "execution_count": 176,
   "id": "036ca764-5bd0-4461-9e52-7c4e8998f2a1",
   "metadata": {},
   "outputs": [
    {
     "name": "stdout",
     "output_type": "stream",
     "text": [
      "1\n",
      "2\n",
      "3\n",
      "4\n",
      "366.8934771041843\n"
     ]
    }
   ],
   "source": [
    "from math import e\n",
    "total = 0\n",
    "for i in range(1, int(n)):\n",
    "    print(i)\n",
    "    x = s + i*h\n",
    "    total += math.sqrt(1 + (a**2)*(b**2)*(e**(2*b*(x+c))))\n",
    "total = total*2\n",
    "total += math.sqrt(1 + (a**2)*(b**2)*(e**(2*b*(r+c)))) + math.sqrt(1+(a**2)*(b**2)*(e**(2*b*(s+c))))\n",
    "print(total)"
   ]
  },
  {
   "cell_type": "code",
   "execution_count": null,
   "id": "dc8a8810-b2cc-4ad2-9f4e-926486c96873",
   "metadata": {},
   "outputs": [],
   "source": []
  },
  {
   "cell_type": "code",
   "execution_count": 171,
   "id": "3a3cf294-4619-4726-9689-4c1c3d1f57e8",
   "metadata": {},
   "outputs": [
    {
     "data": {
      "text/plain": [
       "-6.5513"
      ]
     },
     "execution_count": 171,
     "metadata": {},
     "output_type": "execute_result"
    }
   ],
   "source": [
    "c"
   ]
  },
  {
   "cell_type": "code",
   "execution_count": 172,
   "id": "197d8146-b366-482d-b14a-6fa43ba94efb",
   "metadata": {},
   "outputs": [
    {
     "data": {
      "text/plain": [
       "-1.5513000000000003"
      ]
     },
     "execution_count": 172,
     "metadata": {},
     "output_type": "execute_result"
    }
   ],
   "source": [
    "5 + c"
   ]
  },
  {
   "cell_type": "code",
   "execution_count": 177,
   "id": "13dfda67-e79a-4ff9-9270-566425a62879",
   "metadata": {},
   "outputs": [
    {
     "data": {
      "text/plain": [
       "106.73396013849234"
      ]
     },
     "execution_count": 177,
     "metadata": {},
     "output_type": "execute_result"
    }
   ],
   "source": [
    "math.sqrt(1 + (a**2)*(b**2)*(e**(2*b*(x+c))))"
   ]
  },
  {
   "cell_type": "code",
   "execution_count": 178,
   "id": "56584fa2-86db-4eff-be05-4ac53223064e",
   "metadata": {},
   "outputs": [
    {
     "data": {
      "text/plain": [
       "3.6487000000000007"
      ]
     },
     "execution_count": 178,
     "metadata": {},
     "output_type": "execute_result"
    }
   ],
   "source": [
    "x+c"
   ]
  },
  {
   "cell_type": "code",
   "execution_count": 179,
   "id": "e50d5757-a8a7-4df0-bcbd-aa88c8522257",
   "metadata": {},
   "outputs": [
    {
     "data": {
      "text/plain": [
       "38.424681480177654"
      ]
     },
     "execution_count": 179,
     "metadata": {},
     "output_type": "execute_result"
    }
   ],
   "source": [
    "e**(x+c)"
   ]
  },
  {
   "cell_type": "code",
   "execution_count": 180,
   "id": "f9ff5fe2-66ac-4a2a-9710-ee19cf3dfa3d",
   "metadata": {},
   "outputs": [
    {
     "data": {
      "text/plain": [
       "8.4302"
      ]
     },
     "execution_count": 180,
     "metadata": {},
     "output_type": "execute_result"
    }
   ],
   "source": [
    "2*b"
   ]
  },
  {
   "cell_type": "code",
   "execution_count": null,
   "id": "c15fca26-e8ff-4345-8ab1-29663aa6da62",
   "metadata": {},
   "outputs": [],
   "source": []
  }
 ],
 "metadata": {
  "kernelspec": {
   "display_name": "Python 3 (ipykernel)",
   "language": "python",
   "name": "python3"
  },
  "language_info": {
   "codemirror_mode": {
    "name": "ipython",
    "version": 3
   },
   "file_extension": ".py",
   "mimetype": "text/x-python",
   "name": "python",
   "nbconvert_exporter": "python",
   "pygments_lexer": "ipython3",
   "version": "3.12.5"
  }
 },
 "nbformat": 4,
 "nbformat_minor": 5
}
